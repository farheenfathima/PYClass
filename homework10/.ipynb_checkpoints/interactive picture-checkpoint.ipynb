{
 "cells": [
  {
   "cell_type": "code",
   "execution_count": 2,
   "metadata": {
    "collapsed": true
   },
   "outputs": [],
   "source": [
    "from tkinter import *\n",
    "from tkinter import ttk\n",
    "\n",
    "xcoord, ycoord = 0, 0\n",
    "\n",
    "def xy(event):\n",
    "    global xcoord, ycoord\n",
    "    xcoord, ycoord = event.x, event.y\n",
    "\n",
    "def addLine(event):\n",
    "    global xcoord, ycoord\n",
    "    canvas.create_line((xcoord, ycoord, event.x, event.y))\n",
    "    xcoord, ycoord = event.x, event.y\n",
    "\n",
    "root = Tk()\n",
    "root.columnconfigure(0, weight=1)\n",
    "root.rowconfigure(0, weight=1)\n",
    "\n",
    "canvas = Canvas(root)\n",
    "canvas.grid(column=0, row=0, sticky=(N, W, E, S))\n",
    "canvas.bind(\"<Button-1>\", xy)\n",
    "canvas.bind(\"<B1-Motion>\", addLine)\n",
    "\n",
    "root.mainloop()"
   ]
  },
  {
   "cell_type": "code",
   "execution_count": null,
   "metadata": {
    "collapsed": true
   },
   "outputs": [],
   "source": []
  },
  {
   "cell_type": "code",
   "execution_count": null,
   "metadata": {
    "collapsed": true
   },
   "outputs": [],
   "source": []
  }
 ],
 "metadata": {
  "kernelspec": {
   "display_name": "Python 3",
   "language": "python",
   "name": "python3"
  },
  "language_info": {
   "codemirror_mode": {
    "name": "ipython",
    "version": 3
   },
   "file_extension": ".py",
   "mimetype": "text/x-python",
   "name": "python",
   "nbconvert_exporter": "python",
   "pygments_lexer": "ipython3",
   "version": "3.3.5"
  }
 },
 "nbformat": 4,
 "nbformat_minor": 0
}
