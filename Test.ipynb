{
 "cells": [
  {
   "cell_type": "code",
   "execution_count": null,
   "metadata": {
    "collapsed": true
   },
   "outputs": [],
   "source": [
    "from wsgiref.simple_server import make_server\n",
    "import re\n",
    "\n",
    "def hello_world_app(environ, start_response):\n",
    "\t#print(\"ENVIRON:\", environ)\n",
    "\tmessage=\"\"\n",
    "\tstatus = '200 OK'\n",
    "\theaders = [('Content-type', 'html; charset=utf-8')]\n",
    "\tstart_response(status, headers)\n",
    "\tif(len(environ['QUERY_STRING'])>1):\n",
    "\t\tmessage += \"<br> Your answer has been recieved:\"\n",
    "\t\tfor param in environ['QUERY_STRING'].split(\"&\"):\n",
    "\t\t\tmessage += \"<br>\"+param\n",
    "\tmessage += \"<h1>PROGRAMMING TEST</h1>\"\n",
    "    message += \"<h3>Click on one of the questions below: </h3>\"\n",
    "    message += \"<a href = \"?QUERY_STRING=3\">\n",
    "\tmessage += \"<br><br><input type='submit' name='Submit' ></form>\"\n",
    "\treturn[bytes(message,'utf-8')]\n",
    "\n",
    "httpd = make_server('', 8000, hello_world_app)\n",
    "print(\"Serving on port 8000...\")\n",
    "\n",
    "\n",
    "httpd.serve_forever()"
   ]
  }
 ],
 "metadata": {
  "kernelspec": {
   "display_name": "Python 3",
   "language": "python",
   "name": "python3"
  },
  "language_info": {
   "codemirror_mode": {
    "name": "ipython",
    "version": 3
   },
   "file_extension": ".py",
   "mimetype": "text/x-python",
   "name": "python",
   "nbconvert_exporter": "python",
   "pygments_lexer": "ipython3",
   "version": "3.3.5"
  }
 },
 "nbformat": 4,
 "nbformat_minor": 0
}
