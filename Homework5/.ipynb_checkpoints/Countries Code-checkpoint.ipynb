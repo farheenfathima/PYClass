{
 "cells": [
  {
   "cell_type": "code",
   "execution_count": null,
   "metadata": {
    "collapsed": false
   },
   "outputs": [],
   "source": [
    "import urllib.request\n",
    "import json\n",
    "url = \"https://restcountries.eu/rest/v1/alpha/co\"\n",
    "pg=urllib.request.urlopen(url)\n",
    "content=pg.read()\n",
    "pg_str=content.decode('utf-8')\n",
    "js = json.loads(pg_str)\n",
    "country = input(\"Enter the country code:\")\n",
    "found = 0\n",
    "for k,v in js.items():\n",
    "\tif ( country == v ):\n",
    "\t\tprint(js['nativeName'],js['capital'])\n",
    "\t\tfound = 1\n",
    "\t\tbreak\n",
    "if( found==0 ):\n",
    "\tprint(\"Country not found \")\n",
    "\tprint(\"nativeName: \", js['nativeName'],js['capital'])"
   ]
  },
  {
   "cell_type": "code",
   "execution_count": null,
   "metadata": {
    "collapsed": true
   },
   "outputs": [],
   "source": []
  },
  {
   "cell_type": "code",
   "execution_count": null,
   "metadata": {
    "collapsed": true
   },
   "outputs": [],
   "source": []
  },
  {
   "cell_type": "code",
   "execution_count": null,
   "metadata": {
    "collapsed": true
   },
   "outputs": [],
   "source": []
  },
  {
   "cell_type": "code",
   "execution_count": null,
   "metadata": {
    "collapsed": true
   },
   "outputs": [],
   "source": []
  }
 ],
 "metadata": {
  "kernelspec": {
   "display_name": "Python 3",
   "language": "python",
   "name": "python3"
  },
  "language_info": {
   "codemirror_mode": {
    "name": "ipython",
    "version": 3
   },
   "file_extension": ".py",
   "mimetype": "text/x-python",
   "name": "python",
   "nbconvert_exporter": "python",
   "pygments_lexer": "ipython3",
   "version": "3.3.5"
  }
 },
 "nbformat": 4,
 "nbformat_minor": 0
}
