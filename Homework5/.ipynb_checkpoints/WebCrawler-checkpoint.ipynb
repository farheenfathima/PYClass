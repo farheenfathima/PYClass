{
 "cells": [
  {
   "cell_type": "code",
   "execution_count": null,
   "metadata": {
    "collapsed": false,
    "scrolled": false
   },
   "outputs": [],
   "source": [
    "import urllib.request\n",
    "from urllib.error import  URLError\n",
    "import re\n",
    "import pickle\n",
    "\n",
    "webitems = []\n",
    "def craw_url(url, domain):\n",
    "    global crawlerbacklog\n",
    "\n",
    "    if(len(crawlerbacklog)>100):\n",
    "        return\n",
    "    if(url in crawlerbacklog and crawlerbacklog[url] == 1):\n",
    "        return\n",
    "    else:\n",
    "        crawlerbacklog[url] = 1\n",
    "        \n",
    "    try:\n",
    "        page = urllib.request.urlopen(url)\n",
    "        code=page.getcode()\n",
    "        if(code == 200):\n",
    "            content=page.read()\n",
    "            content_string = content.decode(\"utf-8\")\n",
    "            regexp_header = re.compile('<h1>(?P<text>(.*))</h1>')           \n",
    "            regexp_url = re.compile(\"http://\"+domain+\"[/\\w+]*\")\n",
    "\n",
    "            result = regexp_header.search(content_string, re.IGNORECASE)\n",
    "            \n",
    "            if result:\n",
    "                text = result.group(\"text\")\n",
    "                webitems.append((url, text))\n",
    "\n",
    "            for (urls) in re.findall(regexp_url, content_string):\n",
    "                if(urls  not in crawlerbacklog or crawlerbacklog[urls] != 1):\n",
    "                    crawlerbacklog[urls] = 0\n",
    "                    craw_url(urls, domain)\n",
    "    except URLError as e:\n",
    "        print(\"error\")\n",
    "\n",
    "    f = open('web_data.pickle', 'bw')\n",
    "    pickle.dump(webitems, f)\n",
    "    f.close()    \n",
    "\n",
    "crawlerbacklog = {}\n",
    "\n",
    "seed = \"http://www.newhaven.edu/\"\n",
    "\n",
    "crawlerbacklog[seed]=0\n",
    "\n",
    "craw_url(seed, \"www.newhaven.edu\")\n"
   ]
  },
  {
   "cell_type": "code",
   "execution_count": null,
   "metadata": {
    "collapsed": true
   },
   "outputs": [],
   "source": []
  }
 ],
 "metadata": {
  "kernelspec": {
   "display_name": "Python 3",
   "language": "python",
   "name": "python3"
  },
  "language_info": {
   "codemirror_mode": {
    "name": "ipython",
    "version": 3
   },
   "file_extension": ".py",
   "mimetype": "text/x-python",
   "name": "python",
   "nbconvert_exporter": "python",
   "pygments_lexer": "ipython3",
   "version": "3.3.5"
  }
 },
 "nbformat": 4,
 "nbformat_minor": 0
}
