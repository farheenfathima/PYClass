{
 "cells": [
  {
   "cell_type": "code",
   "execution_count": null,
   "metadata": {
    "collapsed": false
   },
   "outputs": [
    {
     "name": "stderr",
     "output_type": "stream",
     "text": [
      "127.0.0.1 - - [11/Dec/2015 11:05:06] \"GET / HTTP/1.1\" 200 11\n",
      "127.0.0.1 - - [11/Dec/2015 11:05:06] \"GET /favicon.ico HTTP/1.1\" 200 11\n"
     ]
    }
   ],
   "source": [
    "from wsgiref.simple_server import make_server\n",
    "\n",
    "def hello_world_app(environ, start_response):\n",
    "\tstatus = '200 OK'\n",
    "\theaders = [('Content-type', 'text/plain; charset=utf-8')]\n",
    "\tstart_response(status, headers)\n",
    "\n",
    "\treturn[b\"Hello World\"]\n",
    "\n",
    "httpd = make_server('', 8000, hello_world_app)\n",
    "print(\"Serving on port 8000...\")\n",
    "\n",
    "\n",
    "httpd.serve_forever()"
   ]
  },
  {
   "cell_type": "code",
   "execution_count": null,
   "metadata": {
    "collapsed": true
   },
   "outputs": [],
   "source": []
  }
 ],
 "metadata": {
  "kernelspec": {
   "display_name": "Python 3",
   "language": "python",
   "name": "python3"
  },
  "language_info": {
   "codemirror_mode": {
    "name": "ipython",
    "version": 3
   },
   "file_extension": ".py",
   "mimetype": "text/x-python",
   "name": "python",
   "nbconvert_exporter": "python",
   "pygments_lexer": "ipython3",
   "version": "3.3.5"
  }
 },
 "nbformat": 4,
 "nbformat_minor": 0
}
