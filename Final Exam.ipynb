{
 "cells": [
  {
   "cell_type": "code",
   "execution_count": null,
   "metadata": {
    "collapsed": true
   },
   "outputs": [],
   "source": [
    "import sqlite3\n",
    "from wsgiref.simple_server import make_server\n",
    "import re\n",
    "import tkinter\n",
    "\n",
    "def get_form_vals(post_str):\n",
    "\tform_vals = {item.split(\"=\")[0]: item.split(\"=\")[1] for item in post_str.decode().split(\"&\")}\n",
    "\treturn form_vals\n",
    "def programming_test_app(environ, start_response):\n",
    "\tconn = sqlite3.connect(\"FinalExam2015.sqlite\")\n",
    "\tcursor = conn.cursor()\n",
    "\tmessage += \"<h1>PROGRAMMING TEST</h1>\"\n",
    "    message += \"<h3>Click on one of the questions below: </h3>\"\n",
    "    \n",
    "    \n",
    "\tconn.close()\n",
    "\t\n",
    "\n",
    "\n",
    "httpd = make_server('', 8000, countries_app)\n",
    "print(\"Serving on port 8000...\")\n",
    "\n",
    "\n",
    "httpd.serve_forever()"
   ]
  },
  {
   "cell_type": "code",
   "execution_count": null,
   "metadata": {
    "collapsed": true
   },
   "outputs": [],
   "source": [
    "result = cursor.execute(\"SELECT rowid, shortdescription FROM programmingtest\")\n",
    "result1 = cursor.execute(\"SELECT ShortDescription, LongDescription FROM PRogrammingTest WHERE rowid=2\")\n",
    "if event = True:\n",
    "    cursor.execute(\"UPDATE programmingtest SET solution = 'user answer' WHERE rowid=1\")\n",
    "    conn.commit()\n",
    "else:\n",
    "    print(\"enter a solution\")\n"
   ]
  },
  {
   "cell_type": "code",
   "execution_count": null,
   "metadata": {
    "collapsed": true
   },
   "outputs": [],
   "source": [
    "#1st page display\n",
    "for row in result:\n",
    "    message+=\"<tr>\"\n",
    "    for column in row:\n",
    "        message+=\"<td>\"\n",
    "        message+=\"<ahref=\"?q=3\">\"+str(column)+\"</a>\n",
    "        message+=\"</td>\"\n",
    "    message+=\"</tr>\""
   ]
  },
  {
   "cell_type": "code",
   "execution_count": null,
   "metadata": {
    "collapsed": true
   },
   "outputs": [],
   "source": [
    "#for click-through\n",
    "from tkinter import *\n",
    "def buttonpressed(event):\n",
    "    var.set(\"Pressed at [\"+str(data[])+\"]\")\n",
    "    for data1 in result1:\n",
    "        message += \"<tr>\"\n",
    "        message += \"<td><ahref=\"?q=3\">\"+(str(data1[]))+\"</td></a>\"\n",
    "        message += \"<tr>\"\n",
    "    return[bytes(message,'utf-8')]"
   ]
  },
  {
   "cell_type": "code",
   "execution_count": null,
   "metadata": {
    "collapsed": true
   },
   "outputs": [],
   "source": [
    "for data in result:\n",
    "        message += \"<tr>\"\n",
    "        message += \"<td><ahref=\"?q=3\">\"+(str(data[0]))+\"</td></a>\"\n",
    "        message += \"<td><ahref=\"?q=3\">\"+(str(data[1]))+\"</td></a>\"\n",
    "        message += \"<td><ahref=\"?q=3\">\"+(str(data[2]))+\"</td></a>\"\n",
    "        message += \"<td><ahref=\"?q=3\">\"+(str(data[3]))+\"</td></a>\"\n",
    "        message += \"<tr>\"\n",
    "    return[bytes(message,'utf-8')]"
   ]
  },
  {
   "cell_type": "code",
   "execution_count": null,
   "metadata": {
    "collapsed": true
   },
   "outputs": [],
   "source": []
  }
 ],
 "metadata": {
  "kernelspec": {
   "display_name": "Python 3",
   "language": "python",
   "name": "python3"
  },
  "language_info": {
   "codemirror_mode": {
    "name": "ipython",
    "version": 3
   },
   "file_extension": ".py",
   "mimetype": "text/x-python",
   "name": "python",
   "nbconvert_exporter": "python",
   "pygments_lexer": "ipython3",
   "version": "3.3.5"
  }
 },
 "nbformat": 4,
 "nbformat_minor": 0
}
