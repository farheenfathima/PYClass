{
 "cells": [
  {
   "cell_type": "code",
   "execution_count": null,
   "metadata": {
    "collapsed": true
   },
   "outputs": [],
   "source": [
    "import sqlite3\n",
    "from wsgiref.simple_server import make_server\n",
    "import tkinter\n",
    "\n",
    "def get_form_vals(post_str):\n",
    "\tform_vals = {item.split(\"=\")[0]: item.split(\"=\")[1] for item in post_str.decode().split(\"&\")}\n",
    "\treturn form_vals\n",
    "def countries_app(environ, start_response):\n",
    "\tconn = sqlite3.connect(\"final_exam.sqlite\")\n",
    "\tcursor = conn.cursor()\n",
    "\tmessage = \"<h1>COUNTRIES DATA</h1>\"\n",
    "\tif(environ['REQUEST_METHOD'] == 'POST'):\n",
    "\t\trequest_body_size = int(environ['CONTENT_LENGTH'])\n",
    "\t\trequest_body = environ['wsgi.input'].read(request_body_size)\n",
    "\t\tform_vals = get_form_vals(request_body)\n",
    "\t\ttry:\n",
    "\t\t\tsql=\"INSERT INTO COUNTRIES(Country, TotalArea) Values('\"+form_vals['country']+\"', '\"+form_vals['area']+\"')\"\n",
    "\t\t\tcursor.execute(sql)\n",
    "\t\t\tconn.commit()\n",
    "\t\texcept:\n",
    "\t\t\tmessage+=\"<font color=red>an error has occurred</font>\"\n",
    "\tstatus = '200 OK'\n",
    "\theaders = [('Content-type', 'html; charset=utf-8')]\n",
    "\tstart_response(status, headers)\n",
    "\tresult = cursor.execute(\"select Country, TotalArea from COUNTRIES\")\n",
    "\tmessage+=\"<table>\"\n",
    "\tmessage+=\"<tr><td>Country</td><td>Total Area</td></tr>\"\n",
    "\tfor row in result:\n",
    "\t\tmessage+=\"<tr>\"\n",
    "\t\tfor column in row:\n",
    "\t\t\tmessage+=\"<td>\"+str(column)+\"</td>\"\n",
    "\t\tmessage+=\"</tr>\"\n",
    "\tmessage+=\"</table><br/>\"\n",
    "\tmessage+=\"<form method='POST'>Add Record:<br/><br/>\"\n",
    "\tmessage+=\"Country:<input type='text' name='country'><br/><br/>\"\n",
    "\tmessage+=\"Total Area:<input type='number' name='area'><br/><br/>\"\n",
    "\tmessage+=\"<input type='Submit'>\"\n",
    "\treturn[bytes(message,'utf-8')]\n",
    "\tconn.close()\n",
    "\t\n",
    "\n",
    "'''\n",
    "base = tkinter.Tk()\n",
    "base.title(\"Countries Data\")\n",
    "canvas = tkinter.Canvas(base, bg=\"white\", height=1000, width=1000)\n",
    "conn = sqlite3.connect(\"Final_Exam.sqlite\")\n",
    "cursor = conn.cursor()\n",
    "result = cursor.execute(\"select Country, TotalArea from COUNTRIES\")\n",
    "l = 0\n",
    "for row in result:\n",
    "\tl+=50\n",
    "\tcanvas.create_text(100,l-10, text=row[0])\n",
    "\tcanvas.create_line(200,l , int(row[1])/50000+200, l, fill=\"black\")\n",
    "canvas.pack()\n",
    "base.mainloop()\n",
    "'''\n",
    "httpd = make_server('', 8000, countries_app)\n",
    "print(\"Serving on port 8000...\")\n",
    "\n",
    "\n",
    "httpd.serve_forever()"
   ]
  },
  {
   "cell_type": "code",
   "execution_count": null,
   "metadata": {
    "collapsed": true
   },
   "outputs": [],
   "source": []
  },
  {
   "cell_type": "code",
   "execution_count": null,
   "metadata": {
    "collapsed": true
   },
   "outputs": [],
   "source": []
  },
  {
   "cell_type": "code",
   "execution_count": null,
   "metadata": {
    "collapsed": true
   },
   "outputs": [],
   "source": []
  }
 ],
 "metadata": {
  "kernelspec": {
   "display_name": "Python 3",
   "language": "python",
   "name": "python3"
  },
  "language_info": {
   "codemirror_mode": {
    "name": "ipython",
    "version": 3
   },
   "file_extension": ".py",
   "mimetype": "text/x-python",
   "name": "python",
   "nbconvert_exporter": "python",
   "pygments_lexer": "ipython3",
   "version": "3.3.5"
  }
 },
 "nbformat": 4,
 "nbformat_minor": 0
}
