{
 "cells": [
  {
   "cell_type": "markdown",
   "metadata": {},
   "source": [
    "###Guess the animal"
   ]
  },
  {
   "cell_type": "code",
   "execution_count": null,
   "metadata": {
    "collapsed": false
   },
   "outputs": [
    {
     "name": "stdout",
     "output_type": "stream",
     "text": [
      "I will give you three hints,Guess what animal I am ?\n",
      "I have exceptional memory\n",
      "Who am I?Elephant\n",
      "You got it! I am  Elephant\n",
      "I am the biggest cat\n",
      "Who am I?Elephant\n",
      "Please Try Again!!\n",
      "I come in black and white or orange and black\n",
      "Who am I?Elephant\n",
      "Please Try Again!!\n",
      "I am the symbol of strength and courage\n",
      "Who am I?Elephant\n",
      "Please Try Again!!\n",
      "I am out of hints! The answer is: Tiger\n",
      "I use echo-location\n"
     ]
    }
   ],
   "source": [
    "class Animal:\n",
    "    def __init__(self,name):\n",
    "        self.name = name\n",
    "        \n",
    "    def guess_who_am_i(self):\n",
    "        if self.name == \"Elephant\":\n",
    "            questions = ['I have exceptional memory','I am the largest land-living mammal in the world','I have a big trunk']\n",
    "        elif self.name == \"Tiger\":\n",
    "            questions = ['I am the biggest cat','I come in black and white or orange and black','I am the symbol of strength and courage']\n",
    "        elif self.name == \"Bat\":\n",
    "            questions = ['I use echo-location','I can fly','I see well in dark']\n",
    "        count = 0\n",
    "        for phrase in questions:\n",
    "            print(phrase)\n",
    "            names = input(\"Who am I?\")\n",
    "            if (names == self.name):\n",
    "                print(\"You got it! I am \",self.name)\n",
    "                break\n",
    "            elif (names != self.name):\n",
    "                count += 1\n",
    "                print(\"Nope Try Again!!\")\n",
    "            if count == 3:\n",
    "                print(\"I am out of hints! The answer is:\",self.name)\n",
    "                \n",
    "                \n",
    "print(\"I will give you three hints,Guess what animal I am ?\")\n",
    "        \n",
    "e= Animal(\"Elephant\")\n",
    "t= Animal(\"Tiger\")\n",
    "b= Animal(\"Bat\")\n",
    "\n",
    "e.guess_who_am_i()\n",
    "t.guess_who_am_i()\n",
    "b.guess_who_am_i()"
   ]
  },
  {
   "cell_type": "code",
   "execution_count": null,
   "metadata": {
    "collapsed": true
   },
   "outputs": [],
   "source": []
  },
  {
   "cell_type": "code",
   "execution_count": null,
   "metadata": {
    "collapsed": true
   },
   "outputs": [],
   "source": []
  },
  {
   "cell_type": "code",
   "execution_count": null,
   "metadata": {
    "collapsed": true
   },
   "outputs": [],
   "source": []
  },
  {
   "cell_type": "code",
   "execution_count": null,
   "metadata": {
    "collapsed": true
   },
   "outputs": [],
   "source": []
  }
 ],
 "metadata": {
  "kernelspec": {
   "display_name": "Python 3",
   "language": "python",
   "name": "python3"
  },
  "language_info": {
   "codemirror_mode": {
    "name": "ipython",
    "version": 3
   },
   "file_extension": ".py",
   "mimetype": "text/x-python",
   "name": "python",
   "nbconvert_exporter": "python",
   "pygments_lexer": "ipython3",
   "version": "3.3.5"
  }
 },
 "nbformat": 4,
 "nbformat_minor": 0
}
