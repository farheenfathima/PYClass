{
 "cells": [
  {
   "cell_type": "code",
   "execution_count": 1,
   "metadata": {
    "collapsed": false
   },
   "outputs": [
    {
     "name": "stdout",
     "output_type": "stream",
     "text": [
      "Circle with radius 4 < Circle with radius 8 : True\n",
      "Circle with radius 4 > Circle with radius 8 : False\n",
      "Circle with radius 4 == Circle with radius 8 : False\n",
      "Circle with radius 4 != Circle with radius 8 : True\n"
     ]
    }
   ],
   "source": [
    "class Circle:\n",
    "\tdef __init__(self, r):\n",
    "\t\tself.r = r\n",
    "\n",
    "\tdef __str__(self):\n",
    "\t\treturn \"Circle with radius \"+str(self.r)\n",
    "\n",
    "\tdef __lt__ (self, other):\n",
    "\t\treturn self.r < other.r\n",
    "\n",
    "\tdef __gt__ (self, other):\n",
    "\t\treturn other.__lt__(self)\n",
    "\n",
    "\tdef __eq__ (self, other):\n",
    "\t\treturn self.r == other.r\n",
    "\n",
    "\tdef __ne__ (self, other):\n",
    "\t\treturn not self.__eq__(other)\n",
    "\n",
    "c1 = Circle(4)\n",
    "c2 = Circle(8)\n",
    "\n",
    "print(c1,\"<\",c2,\":\", c1 < c2)\n",
    "print(c1,\">\",c2,\":\", c1 > c2)\n",
    "print(c1,\"==\",c2,\":\", c1 == c2)\n",
    "print(c1,\"!=\",c2,\":\", c1 != c2)"
   ]
  },
  {
   "cell_type": "markdown",
   "metadata": {},
   "source": [
    "It is taking instances(self and other) of class and comparing them."
   ]
  },
  {
   "cell_type": "code",
   "execution_count": 16,
   "metadata": {
    "collapsed": false,
    "scrolled": true
   },
   "outputs": [
    {
     "name": "stdout",
     "output_type": "stream",
     "text": [
      "False\n"
     ]
    }
   ],
   "source": [
    "class Circle:\n",
    "\tdef __init__(self, r, color):\n",
    "\t\tself.r = r\n",
    "\t\tself.color=color\n",
    "\n",
    "\tdef __hash__(self):\n",
    "\t\treturn hash(self.color+str(self.r))\n",
    "\n",
    "\tdef __str__(self):\n",
    "\t\treturn \"Circle with radius \"+str(self.r)\n",
    "\n",
    "\tdef __eq__ (self, other):\n",
    "\t\treturn hash(self) == hash(other) #error = other.r*\n",
    "\n",
    "\tdef __ne__ (self, other):\n",
    "\t\treturn not self.__eq__(other)\n",
    "\n",
    "\n",
    "\n",
    "c1 = Circle(4, \"red\")\n",
    "c2 = Circle(8, \"blue\")\n",
    "\n",
    "\n",
    "print(c1 == c2)"
   ]
  },
  {
   "cell_type": "markdown",
   "metadata": {},
   "source": [
    "What are we trying to do here? c1 == c2 ? Compare hash values? They'd anyhow be different right?!"
   ]
  },
  {
   "cell_type": "markdown",
   "metadata": {},
   "source": [
    "Class variables are like static variables in java."
   ]
  },
  {
   "cell_type": "markdown",
   "metadata": {},
   "source": [
    "When we creating our own hashing function, do we need to define for every attribute. "
   ]
  },
  {
   "cell_type": "code",
   "execution_count": 3,
   "metadata": {
    "collapsed": false
   },
   "outputs": [
    {
     "name": "stdout",
     "output_type": "stream",
     "text": [
      "4\n",
      "3\n",
      "4\n",
      "3\n"
     ]
    }
   ],
   "source": [
    "class Circle:\n",
    "\tradius = 4\n",
    "\n",
    "\tdef __init__(self):\n",
    "\t\tself.r = 3\n",
    "\n",
    "\n",
    "myCircle1=Circle()\n",
    "print(myCircle1.radius)\n",
    "print(myCircle1.r)\n",
    "\n",
    "myCircle2=Circle()\n",
    "print(myCircle2.radius)\n",
    "print(myCircle2.r)"
   ]
  },
  {
   "cell_type": "code",
   "execution_count": 4,
   "metadata": {
    "collapsed": false
   },
   "outputs": [
    {
     "name": "stdout",
     "output_type": "stream",
     "text": [
      "4\n"
     ]
    }
   ],
   "source": [
    "print(Circle.radius)"
   ]
  },
  {
   "cell_type": "code",
   "execution_count": 5,
   "metadata": {
    "collapsed": false
   },
   "outputs": [
    {
     "ename": "AttributeError",
     "evalue": "type object 'Circle' has no attribute 'r'",
     "output_type": "error",
     "traceback": [
      "\u001b[0;31m---------------------------------------------------------------------------\u001b[0m",
      "\u001b[0;31mAttributeError\u001b[0m                            Traceback (most recent call last)",
      "\u001b[0;32m<ipython-input-5-793ccbea1116>\u001b[0m in \u001b[0;36m<module>\u001b[0;34m()\u001b[0m\n\u001b[0;32m----> 1\u001b[0;31m \u001b[0mprint\u001b[0m\u001b[0;34m(\u001b[0m\u001b[0mCircle\u001b[0m\u001b[0;34m.\u001b[0m\u001b[0mr\u001b[0m\u001b[0;34m)\u001b[0m\u001b[0;34m\u001b[0m\u001b[0m\n\u001b[0m",
      "\u001b[0;31mAttributeError\u001b[0m: type object 'Circle' has no attribute 'r'"
     ]
    }
   ],
   "source": [
    "print(Circle.r)"
   ]
  },
  {
   "cell_type": "markdown",
   "metadata": {},
   "source": [
    "This causes an error because r belongs to object not class"
   ]
  },
  {
   "cell_type": "markdown",
   "metadata": {},
   "source": [
    "Animals have defined attributes as eyes, heart, count. Monkey can have eyes = 2 and Hippo can have eyes = 2.\n",
    "Now, will there be an initialization if I define only the attribute at class level?"
   ]
  },
  {
   "cell_type": "code",
   "execution_count": 11,
   "metadata": {
    "collapsed": false
   },
   "outputs": [
    {
     "name": "stdout",
     "output_type": "stream",
     "text": [
      "100\n",
      "5\n",
      "100\n"
     ]
    }
   ],
   "source": [
    "Circle.radius = 5\n",
    "print(myCircle1.radius)  # prints 5\n",
    "print(myCircle2.radius) # prints 5\n",
    "myCircle1.radius = 100\n",
    "print(myCircle1.radius) # prints 100, it is creating an instance"
   ]
  },
  {
   "cell_type": "code",
   "execution_count": 12,
   "metadata": {
    "collapsed": false
   },
   "outputs": [
    {
     "name": "stdout",
     "output_type": "stream",
     "text": [
      "100\n",
      "5\n"
     ]
    }
   ],
   "source": [
    "print(myCircle1.radius) # prints 100\n",
    "print(myCircle2.radius) #prints 5"
   ]
  },
  {
   "cell_type": "code",
   "execution_count": 14,
   "metadata": {
    "collapsed": false
   },
   "outputs": [
    {
     "name": "stdout",
     "output_type": "stream",
     "text": [
      "5\n",
      "100\n"
     ]
    }
   ],
   "source": [
    "print(myCircle1.__class__.radius) # this prints the class variable - 5\n",
    "print(myCircle1.radius) # this prints the instance variable 100"
   ]
  },
  {
   "cell_type": "code",
   "execution_count": 15,
   "metadata": {
    "collapsed": false
   },
   "outputs": [
    {
     "name": "stdout",
     "output_type": "stream",
     "text": [
      "77\n"
     ]
    }
   ],
   "source": [
    "myCircle1.__class__.radius = 77\n",
    "print(myCircle1.__class__.radius) "
   ]
  },
  {
   "cell_type": "markdown",
   "metadata": {},
   "source": [
    "Static method means class level method"
   ]
  },
  {
   "cell_type": "markdown",
   "metadata": {},
   "source": [
    "Difference between overriding and overloading\n",
    "overriding=> Inheritance\n",
    "overloading=># of parameters"
   ]
  },
  {
   "cell_type": "code",
   "execution_count": null,
   "metadata": {
    "collapsed": true
   },
   "outputs": [],
   "source": []
  },
  {
   "cell_type": "code",
   "execution_count": null,
   "metadata": {
    "collapsed": true
   },
   "outputs": [],
   "source": []
  },
  {
   "cell_type": "code",
   "execution_count": null,
   "metadata": {
    "collapsed": true
   },
   "outputs": [],
   "source": []
  },
  {
   "cell_type": "code",
   "execution_count": null,
   "metadata": {
    "collapsed": true
   },
   "outputs": [],
   "source": []
  },
  {
   "cell_type": "code",
   "execution_count": null,
   "metadata": {
    "collapsed": true
   },
   "outputs": [],
   "source": []
  },
  {
   "cell_type": "code",
   "execution_count": null,
   "metadata": {
    "collapsed": true
   },
   "outputs": [],
   "source": []
  }
 ],
 "metadata": {
  "kernelspec": {
   "display_name": "Python 3",
   "language": "python",
   "name": "python3"
  },
  "language_info": {
   "codemirror_mode": {
    "name": "ipython",
    "version": 3
   },
   "file_extension": ".py",
   "mimetype": "text/x-python",
   "name": "python",
   "nbconvert_exporter": "python",
   "pygments_lexer": "ipython3",
   "version": "3.3.5"
  }
 },
 "nbformat": 4,
 "nbformat_minor": 0
}
