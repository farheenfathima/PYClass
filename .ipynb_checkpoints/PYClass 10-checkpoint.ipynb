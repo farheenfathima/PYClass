{
 "cells": [
  {
   "cell_type": "markdown",
   "metadata": {},
   "source": [
    "Two things make a server:\n",
    "    \n",
    "    Server hardware\n",
    "    \n",
    "    server image (software)\n",
    "   \n",
    "Domain Name Server\n",
    "\n",
    "Static IP address\n",
    "\n",
    "Tomcat, Apache"
   ]
  },
  {
   "cell_type": "code",
   "execution_count": null,
   "metadata": {
    "collapsed": false
   },
   "outputs": [
    {
     "name": "stderr",
     "output_type": "stream",
     "text": [
      "127.0.0.1 - - [06/Nov/2015 19:02:31] \"GET / HTTP/1.1\" 200 -\n",
      "127.0.0.1 - - [06/Nov/2015 19:02:31] code 404, message File not found\n",
      "127.0.0.1 - - [06/Nov/2015 19:02:31] \"GET /favicon.ico HTTP/1.1\" 404 -\n",
      "127.0.0.1 - - [06/Nov/2015 19:42:34] \"GET / HTTP/1.1\" 200 -\n",
      "127.0.0.1 - - [06/Nov/2015 19:42:37] \"GET / HTTP/1.1\" 200 -\n",
      "127.0.0.1 - - [06/Nov/2015 19:46:22] \"GET / HTTP/1.1\" 200 -\n"
     ]
    }
   ],
   "source": [
    "from http.server import HTTPServer, SimpleHTTPRequestHandler\n",
    "\n",
    "server = HTTPServer((\"\", 8000), SimpleHTTPRequestHandler)\n",
    "server.serve_forever()"
   ]
  },
  {
   "cell_type": "markdown",
   "metadata": {},
   "source": [
    "Favicon?"
   ]
  },
  {
   "cell_type": "code",
   "execution_count": null,
   "metadata": {
    "collapsed": true
   },
   "outputs": [],
   "source": [
    "from http.server import HTTPServer, BaseHTTPRequestHandler\n",
    "\n",
    "class MyHTTPHandler(BaseHTTPRequestHandler):\n",
    "\tdef do_GET(self):\n",
    "\t\tself.send_response(200)\n",
    "\t\tself.end_headers()\n",
    "\t\twith self.wfile as f:\n",
    "\t\t\tf.write(b\"Hello World\")\n",
    "\t\treturn\n",
    "\n",
    "server = HTTPServer((\"\", 8000), MyHTTPHandler)\n",
    "server.serve_forever()"
   ]
  },
  {
   "cell_type": "markdown",
   "metadata": {},
   "source": [
    "The above code is often used to monitor health of other web application"
   ]
  },
  {
   "cell_type": "markdown",
   "metadata": {},
   "source": [
    "List of follow-up, people who talk sense, make sense, do sensible things in life: \n",
    "<list>\n",
    "Sameera Sisodia\n",
    "Keshu Nazneen\n",
    "Siddique Humayun\n",
    "</list>"
   ]
  },
  {
   "cell_type": "code",
   "execution_count": null,
   "metadata": {
    "collapsed": true
   },
   "outputs": [],
   "source": [
    "from flask import Flask\n",
    "\n",
    "#create a Flask application\n",
    "#the argument to Flask is the name of the application's module\n",
    "#since we are running our application in a single file, leave it as __name__\n",
    "app=Flask(__name__)\n",
    "\n",
    "#relative path to the root of your application\n",
    "@app.route('/')\n",
    "def hello_world():\n",
    "    return 'Hello World!'\n",
    "\n",
    "app.run()"
   ]
  },
  {
   "cell_type": "code",
   "execution_count": null,
   "metadata": {
    "collapsed": true
   },
   "outputs": [],
   "source": []
  },
  {
   "cell_type": "code",
   "execution_count": null,
   "metadata": {
    "collapsed": true
   },
   "outputs": [],
   "source": []
  }
 ],
 "metadata": {
  "kernelspec": {
   "display_name": "Python 3",
   "language": "python",
   "name": "python3"
  },
  "language_info": {
   "codemirror_mode": {
    "name": "ipython",
    "version": 3
   },
   "file_extension": ".py",
   "mimetype": "text/x-python",
   "name": "python",
   "nbconvert_exporter": "python",
   "pygments_lexer": "ipython3",
   "version": "3.3.5"
  }
 },
 "nbformat": 4,
 "nbformat_minor": 0
}
