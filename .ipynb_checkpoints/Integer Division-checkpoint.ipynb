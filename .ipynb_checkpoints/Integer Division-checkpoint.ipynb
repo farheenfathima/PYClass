{
 "cells": [
  {
   "cell_type": "code",
   "execution_count": 1,
   "metadata": {
    "collapsed": false
   },
   "outputs": [
    {
     "name": "stdout",
     "output_type": "stream",
     "text": [
      " INTEGER DIVISION \n",
      " 51 / 80 =\n",
      "0.6375\n",
      "Please enter Integers only!\n",
      " 55 / 97 =\n",
      "0\n",
      "CORRECT\n"
     ]
    }
   ],
   "source": [
    "from random import randrange\n",
    "print (\" INTEGER DIVISION \")\n",
    "while(True):\n",
    "    a= randrange(100)\n",
    "    b= randrange(100)\n",
    "    try:\n",
    "        answer = a/b\n",
    "    except:\n",
    "        answer = -1\n",
    "    print (\"\",a,\"/\",b,\"=\",)\n",
    "    number = input(\"\")\n",
    "    try:\n",
    "        if int(answer) == int(number):\n",
    "            print (\"CORRECT\")\n",
    "            break\n",
    "        else:\n",
    "            print(\"INCORRECT\")\n",
    "            print(\"TRY AGAIN?\")\n",
    "    except ValueError:\n",
    "        print(\"Please enter Integers only!\")"
   ]
  },
  {
   "cell_type": "code",
   "execution_count": null,
   "metadata": {
    "collapsed": true
   },
   "outputs": [],
   "source": []
  }
 ],
 "metadata": {
  "kernelspec": {
   "display_name": "Python 3",
   "language": "python",
   "name": "python3"
  },
  "language_info": {
   "codemirror_mode": {
    "name": "ipython",
    "version": 3
   },
   "file_extension": ".py",
   "mimetype": "text/x-python",
   "name": "python",
   "nbconvert_exporter": "python",
   "pygments_lexer": "ipython3",
   "version": "3.3.5"
  }
 },
 "nbformat": 4,
 "nbformat_minor": 0
}
