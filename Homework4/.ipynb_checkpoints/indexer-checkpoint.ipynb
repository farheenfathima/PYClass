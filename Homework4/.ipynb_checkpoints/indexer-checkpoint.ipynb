{
 "cells": [
  {
   "cell_type": "code",
   "execution_count": 2,
   "metadata": {
    "collapsed": false
   },
   "outputs": [
    {
     "ename": "SyntaxError",
     "evalue": "(unicode error) 'unicodeescape' codec can't decode bytes in position 2-3: truncated \\UXXXXXXXX escape (<ipython-input-2-a882f10903b4>, line 11)",
     "output_type": "error",
     "traceback": [
      "\u001b[0;36m  File \u001b[0;32m\"<ipython-input-2-a882f10903b4>\"\u001b[0;36m, line \u001b[0;32m11\u001b[0m\n\u001b[0;31m    pickles = open (\"C:\\Users\\farheenfathima\\Python\\raw_data.pickle\",\"br\")\u001b[0m\n\u001b[0m                   ^\u001b[0m\n\u001b[0;31mSyntaxError\u001b[0m\u001b[0;31m:\u001b[0m (unicode error) 'unicodeescape' codec can't decode bytes in position 2-3: truncated \\UXXXXXXXX escape\n"
     ]
    }
   ],
   "source": [
    "import os\n",
    "import urllib.request\n",
    "import json\n",
    "from pprint import pprint\n",
    "import sys\n",
    "import pickle\n",
    "import shelve\n",
    "def indexer():\n",
    "\n",
    "    Dict = {}\n",
    "    pickles = open (\"C:\\Users\\farheenfathima\\Python\\raw_data.pickle\",\"br\")\n",
    "    x = pickle.load(r)\n",
    "    shelve = shelve.open(\"datalist\")\n",
    "    for filepath, file_content in x:\n",
    "        file_content = file_content.split()\n",
    "        for word in file_content:\n",
    "            if(word not in Dict.keys()):\n",
    "                Dict[word]={x}\n",
    "            else:\n",
    "                Dict[word]= Dict[word]|{x}\n",
    "    for key, value in Dict.items():\n",
    "        shelve[key]=(value)\n",
    "    pickles.close()\n",
    "    shelve.close()\n",
    "\n",
    "indexer()"
   ]
  },
  {
   "cell_type": "code",
   "execution_count": null,
   "metadata": {
    "collapsed": true
   },
   "outputs": [],
   "source": []
  },
  {
   "cell_type": "code",
   "execution_count": null,
   "metadata": {
    "collapsed": true
   },
   "outputs": [],
   "source": []
  }
 ],
 "metadata": {
  "kernelspec": {
   "display_name": "Python 3",
   "language": "python",
   "name": "python3"
  },
  "language_info": {
   "codemirror_mode": {
    "name": "ipython",
    "version": 3
   },
   "file_extension": ".py",
   "mimetype": "text/x-python",
   "name": "python",
   "nbconvert_exporter": "python",
   "pygments_lexer": "ipython3",
   "version": "3.3.5"
  }
 },
 "nbformat": 4,
 "nbformat_minor": 0
}
