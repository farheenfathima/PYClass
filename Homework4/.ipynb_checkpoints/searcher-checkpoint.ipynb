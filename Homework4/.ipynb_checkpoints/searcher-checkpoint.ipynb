{
 "cells": [
  {
   "cell_type": "code",
   "execution_count": 3,
   "metadata": {
    "collapsed": false
   },
   "outputs": [
    {
     "ename": "TypeError",
     "evalue": "searcher() missing 2 required positional arguments: 'x' and 'search'",
     "output_type": "error",
     "traceback": [
      "\u001b[0;31m---------------------------------------------------------------------------\u001b[0m",
      "\u001b[0;31mTypeError\u001b[0m                                 Traceback (most recent call last)",
      "\u001b[0;32m<ipython-input-3-94a82c7636c7>\u001b[0m in \u001b[0;36m<module>\u001b[0;34m()\u001b[0m\n\u001b[1;32m     46\u001b[0m                 \u001b[0mprint\u001b[0m\u001b[0;34m(\u001b[0m\u001b[0;34m\"Execution time:\"\u001b[0m\u001b[0;34m,\u001b[0m \u001b[0mdt2\u001b[0m\u001b[0;34m.\u001b[0m\u001b[0mmicrosecond\u001b[0m\u001b[0;34m-\u001b[0m\u001b[0mdt1\u001b[0m\u001b[0;34m.\u001b[0m\u001b[0mmicrosecond\u001b[0m\u001b[0;34m)\u001b[0m\u001b[0;34m\u001b[0m\u001b[0m\n\u001b[1;32m     47\u001b[0m \u001b[0;34m\u001b[0m\u001b[0m\n\u001b[0;32m---> 48\u001b[0;31m \u001b[0msearcher\u001b[0m\u001b[0;34m(\u001b[0m\u001b[0;34m)\u001b[0m\u001b[0;34m;\u001b[0m\u001b[0;34m\u001b[0m\u001b[0m\n\u001b[0m",
      "\u001b[0;31mTypeError\u001b[0m: searcher() missing 2 required positional arguments: 'x' and 'search'"
     ]
    }
   ],
   "source": [
    "import os\n",
    "import shelve\n",
    "from datetime import datetime\n",
    "def searcher(x, search):\n",
    "    List = []\n",
    "    Dict = shelve.open(x)\n",
    "    \n",
    "    query=input(\"Enter:\")\n",
    "\n",
    "    dt1 = datetime.now()\n",
    "    if \"or\" in (query) and \"and\" not in (query):\n",
    "        query.remove(\"or\")\n",
    "        print (query)\n",
    "        for item in query:\n",
    "            if (item in Dict):\n",
    "                query = []\n",
    "                query = query+Dict[item]\n",
    "                query = set(query)\n",
    "                query = list(query)\n",
    "                for item in query:\n",
    "                    print(item)\n",
    "                    dt2= datetime.now()\n",
    "                    print(\"Execution time:\", dt2.microsecond-dt1.microsecond)\n",
    "    elif \"and\" in (query):\n",
    "        query.remove(\"and\")\n",
    "        if \"or\" in (query):\n",
    "            query.remove(\"or\")\n",
    "        print (query)\n",
    "        Dict_list1 = Dict [query[0]]\n",
    "        for x in query:\n",
    "            Dict_list2 = Dict[x]\n",
    "            Dict_list1 = set.intersection(Dict_list2)\n",
    "            Dict_list1 = list.intersection(Dict_list2)\n",
    "            for quote in Dict_list1:\n",
    "                print(quote)\n",
    "                dt2= datetime.now()\n",
    "                print(\"Execution time:\", dt2.microsecond-dt1.microsecond)\n",
    "    else:\n",
    "        print (query)\n",
    "        Dict[query[0]]\n",
    "        Dict = set (query)\n",
    "        Dict = list (query)\n",
    "        for value in Dict[query[0]]:\n",
    "                print(value)\n",
    "                dt2= datetime.now()\n",
    "                print(\"Execution time:\", dt2.microsecond-dt1.microsecond)\n",
    "\n",
    "searcher()"
   ]
  },
  {
   "cell_type": "code",
   "execution_count": null,
   "metadata": {
    "collapsed": true
   },
   "outputs": [],
   "source": []
  },
  {
   "cell_type": "code",
   "execution_count": null,
   "metadata": {
    "collapsed": true
   },
   "outputs": [],
   "source": []
  },
  {
   "cell_type": "code",
   "execution_count": null,
   "metadata": {
    "collapsed": true
   },
   "outputs": [],
   "source": []
  }
 ],
 "metadata": {
  "kernelspec": {
   "display_name": "Python 3",
   "language": "python",
   "name": "python3"
  },
  "language_info": {
   "codemirror_mode": {
    "name": "ipython",
    "version": 3
   },
   "file_extension": ".py",
   "mimetype": "text/x-python",
   "name": "python",
   "nbconvert_exporter": "python",
   "pygments_lexer": "ipython3",
   "version": "3.3.5"
  }
 },
 "nbformat": 4,
 "nbformat_minor": 0
}
