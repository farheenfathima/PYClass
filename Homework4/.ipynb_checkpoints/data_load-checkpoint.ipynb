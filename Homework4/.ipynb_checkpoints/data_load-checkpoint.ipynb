{
 "cells": [
  {
   "cell_type": "code",
   "execution_count": 3,
   "metadata": {
    "collapsed": false
   },
   "outputs": [
    {
     "ename": "ImportError",
     "evalue": "No module named 'quotes'",
     "output_type": "error",
     "traceback": [
      "\u001b[0;31m---------------------------------------------------------------------------\u001b[0m",
      "\u001b[0;31mImportError\u001b[0m                               Traceback (most recent call last)",
      "\u001b[0;32m<ipython-input-3-1e7e6a96c688>\u001b[0m in \u001b[0;36m<module>\u001b[0;34m()\u001b[0m\n\u001b[1;32m      3\u001b[0m \u001b[0;32mimport\u001b[0m \u001b[0mpickle\u001b[0m\u001b[0;34m\u001b[0m\u001b[0m\n\u001b[1;32m      4\u001b[0m \u001b[0;32mimport\u001b[0m \u001b[0msys\u001b[0m\u001b[0;34m\u001b[0m\u001b[0m\n\u001b[0;32m----> 5\u001b[0;31m \u001b[0;32mfrom\u001b[0m \u001b[0mquotes\u001b[0m \u001b[0;32mimport\u001b[0m \u001b[0mdatalist\u001b[0m\u001b[0;34m\u001b[0m\u001b[0m\n\u001b[0m\u001b[1;32m      6\u001b[0m \u001b[0;34m\u001b[0m\u001b[0m\n\u001b[1;32m      7\u001b[0m \u001b[0;34m\u001b[0m\u001b[0m\n",
      "\u001b[0;31mImportError\u001b[0m: No module named 'quotes'"
     ]
    }
   ],
   "source": [
    "import os\n",
    "import fnmatch\n",
    "import pickle\n",
    "import sys\n",
    "from quotes import datalist\n",
    "\n",
    "\n",
    "\n",
    "\n",
    "def file_traverser():\n",
    "    list1 = []\n",
    "    start_dir = 'C:\\\\Users\\\\farheenfathima\\\\Python\\\\fortune1'\n",
    "\n",
    "    for directory, folders, files in os.walk(start_dir):\n",
    "            for single_file in files:\n",
    "                    if (fnmatch.fnmatch(single_file, \"*txt\")):\n",
    "                            filepath = os.path.abspath(os.path.join(directory, single_file))\n",
    "                            f = open (filepath)\n",
    "                            fileData = f.read()\n",
    "                            filetuple = (filepath,fileData)\n",
    "                            list1.append (filetuple)\n",
    "                            f.close()\n",
    "    pickledata = open (\"raw_data.txt\",\"bw\")\n",
    "    pickle.dump(list1,pickledata)\n",
    "    pickledata.close()\n",
    "    \n",
    "\n",
    "file_traverser()"
   ]
  },
  {
   "cell_type": "code",
   "execution_count": null,
   "metadata": {
    "collapsed": true
   },
   "outputs": [],
   "source": []
  },
  {
   "cell_type": "code",
   "execution_count": null,
   "metadata": {
    "collapsed": true
   },
   "outputs": [],
   "source": []
  },
  {
   "cell_type": "code",
   "execution_count": null,
   "metadata": {
    "collapsed": true
   },
   "outputs": [],
   "source": []
  }
 ],
 "metadata": {
  "kernelspec": {
   "display_name": "Python 3",
   "language": "python",
   "name": "python3"
  },
  "language_info": {
   "codemirror_mode": {
    "name": "ipython",
    "version": 3
   },
   "file_extension": ".py",
   "mimetype": "text/x-python",
   "name": "python",
   "nbconvert_exporter": "python",
   "pygments_lexer": "ipython3",
   "version": "3.3.5"
  }
 },
 "nbformat": 4,
 "nbformat_minor": 0
}
