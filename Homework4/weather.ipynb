{
 "cells": [
  {
   "cell_type": "code",
   "execution_count": 1,
   "metadata": {
    "collapsed": true
   },
   "outputs": [],
   "source": [
    "import urllib.request\n",
    "from urllib.error import URLError\n",
    "import json\n",
    "import time\n",
    "\n",
    "def weather(query):\n",
    "    weather_query=''\n",
    "    for items in query:\n",
    "        weather_query=weather_query+str(items)+' '\n",
    "    try:\n",
    "        urlwebsite = \"http://api.openweathermap.org/data/2.5/weather?q=west%20haven,%20ct=\"+weather_query\n",
    "        page = urllib.request.urlopen(urlwebsite)\n",
    "\n",
    "        pagecode = page.getcode()\n",
    "        if pagecode==200:\n",
    "            content=page.read()\n",
    "            content_string = content.decode(\"utf-8\")\n",
    "\n",
    "            json_data = json.loads(content_string)\n",
    "\n",
    "            print (\"\\n\"+\"_________________________________\")\n",
    "            print(\"Weather update for: \",json_data[\"name\"]+\",\",json_data[\"sys\"][\"country\"])\n",
    "            print (\"Sky: \",json_data[\"weather\"][0][\"description\"])\n",
    "            temp = ((float(json_data[\"main\"][\"temp\"]) -273.15)*(9/5))+32\n",
    "            print (\"Temperature: %.2f 'F\" %(temp))\n",
    "            print (\"Humidity: {}%\".format(json_data[\"main\"][\"humidity\"]))\n",
    "            print (\"Wind: {}mph\".format(json_data[\"wind\"][\"speed\"]))\n",
    "\n",
    "            print (\"Sunrise: \", (time.strftime(\"%m/%d/%Y %I:%M:%S %p\",time.localtime(int(json_data[\"sys\"][\"sunrise\"])))))\n",
    "            print (\"Sunset: \", (time.strftime(\"%m/%d/%Y %I:%M:%S %p\",time.localtime(int(json_data[\"sys\"][\"sunset\"])))))\n",
    "            print (\"_________________________________\")\n",
    "    except:\n",
    "        print(\"No weather update for \"+weather_query,\"\\n\")"
   ]
  },
  {
   "cell_type": "code",
   "execution_count": null,
   "metadata": {
    "collapsed": true
   },
   "outputs": [],
   "source": []
  }
 ],
 "metadata": {
  "kernelspec": {
   "display_name": "Python 3",
   "language": "python",
   "name": "python3"
  },
  "language_info": {
   "codemirror_mode": {
    "name": "ipython",
    "version": 3
   },
   "file_extension": ".py",
   "mimetype": "text/x-python",
   "name": "python",
   "nbconvert_exporter": "python",
   "pygments_lexer": "ipython3",
   "version": "3.3.5"
  }
 },
 "nbformat": 4,
 "nbformat_minor": 0
}
